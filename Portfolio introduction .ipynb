{
 "cells": [
  {
   "cell_type": "markdown",
   "metadata": {},
   "source": [
    "#  Portfolio introduction"
   ]
  },
  {
   "cell_type": "code",
   "execution_count": 1,
   "metadata": {},
   "outputs": [],
   "source": [
    "import numpy as np\n",
    "import pandas as pd\n",
    "import yfinance as yf\n",
    "from sklearn.linear_model import LinearRegression\n",
    "import math\n",
    "import matplotlib.pyplot as plt\n",
    "from scipy.optimize import minimize"
   ]
  },
  {
   "cell_type": "markdown",
   "metadata": {},
   "source": [
    "## 2 Assets Portfolio\n",
    "### Download Stock Quotes from Yahoo! Finance"
   ]
  },
  {
   "cell_type": "code",
   "execution_count": 2,
   "metadata": {},
   "outputs": [],
   "source": [
    "# Set stocks symbols and time frame\n",
    "stocks_list = 'AAPL K'  # tickers seperated by space\n",
    "start_date = '2009-01-01'\n",
    "end_date = '2019-01-01'"
   ]
  },
  {
   "cell_type": "code",
   "execution_count": 3,
   "metadata": {},
   "outputs": [
    {
     "name": "stdout",
     "output_type": "stream",
     "text": [
      "[*********************100%***********************]  2 of 2 completed\n",
      "Stocks Prices:\n",
      "                AAPL          K\n",
      "Date                           \n",
      "2009-01-01  2.735905  27.345650\n",
      "2009-02-01  2.711014  24.360100\n",
      "2009-03-01  3.190928  23.129932\n",
      "2009-04-01  3.819583  26.590273\n",
      "2009-05-01  4.122524  27.310135\n"
     ]
    }
   ],
   "source": [
    "# Read\n",
    "data = yf.download(tickers=stocks_list, start=start_date,\n",
    "                   end=end_date, interval=\"1mo\")['Adj Close'].dropna()\n",
    "print(\"Stocks Prices:\")\n",
    "print(data.head())"
   ]
  },
  {
   "cell_type": "markdown",
   "metadata": {},
   "source": [
    "### Stocks Statistics "
   ]
  },
  {
   "cell_type": "code",
   "execution_count": 4,
   "metadata": {},
   "outputs": [
    {
     "name": "stdout",
     "output_type": "stream",
     "text": [
      "Stocks Monthly Returns:\n",
      "                AAPL         K\n",
      "Date                          \n",
      "2009-02-01 -0.009140 -0.115611\n",
      "2009-03-01  0.162989 -0.051819\n",
      "2009-04-01  0.179829  0.139418\n",
      "2009-05-01  0.076324  0.026712\n",
      "2009-06-01  0.047594  0.081855\n"
     ]
    }
   ],
   "source": [
    "# Calculate monthly returns\n",
    "monthly_ret = np.log(data).diff().dropna()\n",
    "print(\"Stocks Monthly Returns:\")\n",
    "print(monthly_ret.head())"
   ]
  },
  {
   "cell_type": "code",
   "execution_count": 5,
   "metadata": {},
   "outputs": [
    {
     "name": "stdout",
     "output_type": "stream",
     "text": [
      "Stocks Mean Returns:\n",
      "AAPL    0.022099\n",
      "K       0.004810\n",
      "dtype: float64\n"
     ]
    }
   ],
   "source": [
    "# Mean Returns\n",
    "mean_ret = monthly_ret.mean()\n",
    "print(\"Stocks Mean Returns:\")\n",
    "print(mean_ret)"
   ]
  },
  {
   "cell_type": "code",
   "execution_count": 6,
   "metadata": {},
   "outputs": [
    {
     "name": "stdout",
     "output_type": "stream",
     "text": [
      "Stocks Sigma:\n",
      "AAPL    0.074039\n",
      "K       0.045390\n",
      "dtype: float64\n"
     ]
    }
   ],
   "source": [
    "# Sigma\n",
    "sigma = monthly_ret.std()\n",
    "print(\"Stocks Sigma:\")\n",
    "print(sigma)"
   ]
  },
  {
   "cell_type": "code",
   "execution_count": 7,
   "metadata": {},
   "outputs": [
    {
     "name": "stdout",
     "output_type": "stream",
     "text": [
      "Variance-Covariance Matrix:\n",
      "          AAPL         K\n",
      "AAPL  0.005482  0.000828\n",
      "K     0.000828  0.002060\n"
     ]
    }
   ],
   "source": [
    "# Variance Covariance Matrix\n",
    "cov_mat = monthly_ret.cov()\n",
    "print(\"Variance-Covariance Matrix:\")\n",
    "print(cov_mat)"
   ]
  },
  {
   "cell_type": "code",
   "execution_count": 8,
   "metadata": {},
   "outputs": [
    {
     "name": "stdout",
     "output_type": "stream",
     "text": [
      "Correlation Matrix\n",
      "          AAPL         K\n",
      "AAPL  1.000000  0.246316\n",
      "K     0.246316  1.000000\n"
     ]
    }
   ],
   "source": [
    "# Correlation Matrix\n",
    "corr_mat = monthly_ret.corr()\n",
    "print(\"Correlation Matrix\")\n",
    "print(corr_mat)"
   ]
  },
  {
   "cell_type": "markdown",
   "metadata": {},
   "source": [
    "### Linear Regression"
   ]
  },
  {
   "cell_type": "code",
   "execution_count": 9,
   "metadata": {},
   "outputs": [],
   "source": [
    "x = np.array(monthly_ret['AAPL']).reshape(-1, 1)\n",
    "y = np.array(monthly_ret['K'])\n",
    "model = LinearRegression().fit(x, y)"
   ]
  },
  {
   "cell_type": "code",
   "execution_count": 10,
   "metadata": {},
   "outputs": [
    {
     "name": "stdout",
     "output_type": "stream",
     "text": [
      "R-suared    0.060672\n",
      "dtype: float64\n"
     ]
    }
   ],
   "source": [
    "# coefficient of determination (R-Squared)\n",
    "print(pd.Series([model.score(x, y)],index=[\"R-suared\"]))"
   ]
  },
  {
   "cell_type": "code",
   "execution_count": 11,
   "metadata": {},
   "outputs": [
    {
     "name": "stdout",
     "output_type": "stream",
     "text": [
      "Alpha    0.001473\n",
      "dtype: float64\n"
     ]
    }
   ],
   "source": [
    "# Alpha\n",
    "print(pd.Series([model.intercept_],index=[\"Alpha\"]))"
   ]
  },
  {
   "cell_type": "code",
   "execution_count": 12,
   "metadata": {},
   "outputs": [
    {
     "name": "stdout",
     "output_type": "stream",
     "text": [
      "Beta    0.151007\n",
      "dtype: float64\n"
     ]
    }
   ],
   "source": [
    "# Beta (slope)\n",
    "print(pd.Series([model.coef_[0]],index=[\"Beta\"]))"
   ]
  },
  {
   "cell_type": "code",
   "execution_count": 13,
   "metadata": {},
   "outputs": [
    {
     "data": {
      "image/png": "[encoded data removed]",
      "text/plain": [
       "<Figure size 640x480 with 1 Axes>"
      ]
     },
     "metadata": {},
     "output_type": "display_data"
    }
   ],
   "source": [
    "#Scatter Plot\n",
    "fig = plt.figure() # create a canvas\n",
    "ax = fig.add_axes([0., 0., 1., 1.]) # add axes\n",
    "ax.plot(x, y, 'o') # scatter plot\n",
    "ax.plot(x, model.intercept_ + x * model.coef_) # linear regression line\n",
    "\n",
    "# Titles and axes names\n",
    "ax.set_title(r'Monthly Returns', fontsize = 20)\n",
    "ax.set_xlabel(r'K', fontsize = 15)\n",
    "ax.set_ylabel(r'AAPL', fontsize = 15)\n",
    "\n",
    "# Equation\n",
    "alpha = str(round(model.intercept_ * 100, 2)) + \"%\"\n",
    "beta = str(round(model.coef_[0] * 100, 2)) + \"%\"\n",
    "equation = \"AAPL = K x \" + beta +\" + \"+ alpha\n",
    "ax.text(y = 0.13, x = -0.18,s = equation)\n",
    "\n",
    "# Show plot\n",
    "plt.show()"
   ]
  },
  {
   "cell_type": "markdown",
   "metadata": {},
   "source": [
    "### Building a portfolio"
   ]
  },
  {
   "cell_type": "code",
   "execution_count": 14,
   "metadata": {},
   "outputs": [
    {
     "name": "stdout",
     "output_type": "stream",
     "text": [
      "         AAPL    K\n",
      "Weights   0.5  0.5\n"
     ]
    }
   ],
   "source": [
    "# Set proportions\n",
    "Xa = 0.5\n",
    "Xb = 1 - Xa\n",
    "proportions = pd.DataFrame(data = [[Xa], [Xb]],columns = ['Weights'], index = ['AAPL','K']).transpose()\n",
    "print(proportions)"
   ]
  },
  {
   "cell_type": "code",
   "execution_count": 15,
   "metadata": {},
   "outputs": [
    {
     "name": "stdout",
     "output_type": "stream",
     "text": [
      "            Portfolio Returns\n",
      "Date                         \n",
      "2009-02-01          -0.062375\n",
      "2009-03-01           0.055585\n",
      "2009-04-01           0.159624\n",
      "2009-05-01           0.051518\n",
      "2009-06-01           0.064725\n"
     ]
    }
   ],
   "source": [
    "# Portfolio Returns\n",
    "t_monthly_ret = monthly_ret.transpose()\n",
    "port_ret = proportions.dot(t_monthly_ret).transpose()\n",
    "port_ret.columns = ['Portfolio Returns']\n",
    "print(port_ret.head())"
   ]
  },
  {
   "cell_type": "code",
   "execution_count": 16,
   "metadata": {},
   "outputs": [
    {
     "name": "stdout",
     "output_type": "stream",
     "text": [
      "Portfolio Variance    0.002299\n",
      "dtype: float64\n"
     ]
    }
   ],
   "source": [
    "# Calculate portfolio Variance\n",
    "port_var = proportions.dot(cov_mat).dot(proportions.transpose()).iloc[0,0]\n",
    "print(pd.Series(port_var,index=[\"Portfolio Variance\"]))"
   ]
  },
  {
   "cell_type": "code",
   "execution_count": 17,
   "metadata": {},
   "outputs": [
    {
     "name": "stdout",
     "output_type": "stream",
     "text": [
      "Portfolio Sigma    0.047952\n",
      "dtype: float64\n"
     ]
    }
   ],
   "source": [
    "# Calculate portfolio Sigma\n",
    "port_sigma = math.sqrt(port_var)\n",
    "print(pd.Series(port_sigma,index=[\"Portfolio Sigma\"]))"
   ]
  },
  {
   "cell_type": "markdown",
   "metadata": {},
   "source": [
    "### Calculating the  Minimum-Variance Portfolio"
   ]
  },
  {
   "cell_type": "code",
   "execution_count": 18,
   "metadata": {},
   "outputs": [
    {
     "name": "stdout",
     "output_type": "stream",
     "text": [
      "AAPL    0.20938\n",
      "K       0.79062\n",
      "dtype: float64\n"
     ]
    }
   ],
   "source": [
    "# Analytical Approach \n",
    "AAPL_var = cov_mat.loc[\"AAPL\"][\"AAPL\"]\n",
    "K_var = cov_mat.loc[\"K\"][\"K\"]\n",
    "AAPL_K_cov = cov_mat.loc[\"AAPL\"][\"K\"]\n",
    "\n",
    "# AAPL weight:\n",
    "GMVP_AAPL = (K_var - AAPL_K_cov) / (AAPL_var + K_var - 2 * AAPL_K_cov)\n",
    "\n",
    "# K weight\n",
    "GMVP_K = 1 - GMVP_AAPL\n",
    "\n",
    "# Weights\n",
    "proportions = pd.Series({'AAPL': GMVP_AAPL, 'K': GMVP_K})\n",
    "print(proportions)"
   ]
  },
  {
   "cell_type": "code",
   "execution_count": 19,
   "metadata": {},
   "outputs": [
    {
     "name": "stdout",
     "output_type": "stream",
     "text": [
      "GMVP Variance    0.001802\n",
      "dtype: float64\n"
     ]
    }
   ],
   "source": [
    "# Calculating GMVP variance:\n",
    "proportions = pd.DataFrame(data = [GMVP_AAPL, GMVP_K],columns = ['Weights'], index = ['AAPL','K']).transpose()\n",
    "GMVP_var = proportions.dot(cov_mat).dot(proportions.transpose()).iloc[0,0]\n",
    "print(pd.Series(GMVP_var,index=[\"GMVP Variance\"]))"
   ]
  },
  {
   "cell_type": "code",
   "execution_count": 20,
   "metadata": {},
   "outputs": [
    {
     "name": "stdout",
     "output_type": "stream",
     "text": [
      "GMVP Sigma    0.042453\n",
      "dtype: float64\n"
     ]
    }
   ],
   "source": [
    "# Calculate portfolio Sigma\n",
    "GMVP_sigma = math.sqrt(GMVP_var)\n",
    "print(pd.Series(GMVP_sigma,index=[\"GMVP Sigma\"]))"
   ]
  },
  {
   "cell_type": "code",
   "execution_count": 21,
   "metadata": {},
   "outputs": [],
   "source": [
    "# Solver Approach\n",
    "# Define function for portfolio variance\n",
    "def port_var(Xa):\n",
    "    Xb = 1- Xa\n",
    "    proportions = np.array([Xa, Xb]).transpose()\n",
    "    port_var = np.dot(proportions, cov_mat).dot(proportions.transpose())\n",
    "    return port_var"
   ]
  },
  {
   "cell_type": "code",
   "execution_count": 22,
   "metadata": {},
   "outputs": [
    {
     "name": "stdout",
     "output_type": "stream",
     "text": [
      "Apple's Weight    0.209375\n",
      "dtype: float64\n"
     ]
    }
   ],
   "source": [
    "# Minimize Portfolio Variance\n",
    "x0 = 0 # initial guess for AAPL's weight\n",
    "result = minimize(port_var, x0, method='nelder-mead')\n",
    "print(pd.Series(result.x,index=[\"Apple's Weight\"])) # AAPL's weight result"
   ]
  },
  {
   "cell_type": "markdown",
   "metadata": {},
   "source": [
    "### Case of N assets ( 4 assetst example)"
   ]
  },
  {
   "cell_type": "code",
   "execution_count": 32,
   "metadata": {},
   "outputs": [],
   "source": [
    "# Input: Variance Covariance Matrix\n",
    "var_cov_mat = np.array([[0.10,0.01,0.03,0.05],\n",
    "                           [0.01,0.30,0.06,-0.04],\n",
    "                           [0.03,0.06,0.40,0.02],\n",
    "                           [0.05,-0.04,0.02,0.50]])\n",
    "\n",
    "# Input: mean returns\n",
    "mean_returns = np.array([0.06, 0.08, 0.1, 0.15]).transpose()\n",
    "\n",
    "# Input: Portfolio weights\n",
    "port_x_wei = np.array([0.2, 0.3, 0.4, 0.1]).transpose()\n",
    "port_y_wei = np.array([0.2, 0.1, 0.1, 0.6]).transpose()"
   ]
  },
  {
   "cell_type": "code",
   "execution_count": 33,
   "metadata": {},
   "outputs": [],
   "source": [
    "# Portfolios Mean Returns\n",
    "port_x_ret = np.dot(mean_returns, port_x_wei)\n",
    "port_y_ret = np.dot(mean_returns, port_y_wei)"
   ]
  },
  {
   "cell_type": "code",
   "execution_count": 34,
   "metadata": {},
   "outputs": [
    {
     "name": "stdout",
     "output_type": "stream",
     "text": [
      "Portfolio's Returns:\n",
      "X    0.091\n",
      "Y    0.120\n",
      "dtype: float64\n"
     ]
    }
   ],
   "source": [
    "# Result\n",
    "print(\"Portfolio's Returns:\")\n",
    "print(pd.Series([port_x_ret,port_y_ret],index=['X','Y']))"
   ]
  },
  {
   "cell_type": "code",
   "execution_count": 35,
   "metadata": {},
   "outputs": [],
   "source": [
    "# Portfolios variance calculation of n-assets\n",
    "port_x_var = np.dot(port_x_wei, var_cov_mat).dot(port_x_wei.transpose())\n",
    "port_y_var = np.dot(port_y_wei, var_cov_mat).dot(port_y_wei.transpose())"
   ]
  },
  {
   "cell_type": "code",
   "execution_count": 36,
   "metadata": {},
   "outputs": [
    {
     "name": "stdout",
     "output_type": "stream",
     "text": [
      "Portfolio's Variance:\n",
      "X    0.1216\n",
      "Y    0.2034\n",
      "dtype: float64\n"
     ]
    }
   ],
   "source": [
    "# Result\n",
    "print(\"Portfolio's Variance:\")\n",
    "print(pd.Series([port_x_var,port_y_var],index=['X','Y']))"
   ]
  },
  {
   "cell_type": "code",
   "execution_count": 37,
   "metadata": {},
   "outputs": [],
   "source": [
    "# Portfolios Standard deviation\n",
    "port_x_sigma = math.sqrt(port_x_var)\n",
    "port_y_sigma = math.sqrt(port_y_var)"
   ]
  },
  {
   "cell_type": "code",
   "execution_count": 38,
   "metadata": {},
   "outputs": [
    {
     "name": "stdout",
     "output_type": "stream",
     "text": [
      "Portfolio's Sigma:\n",
      "X    0.348712\n",
      "Y    0.450999\n",
      "dtype: float64\n"
     ]
    }
   ],
   "source": [
    "# Result\n",
    "print(\"Portfolio's Sigma:\")\n",
    "print(pd.Series([port_x_sigma,port_y_sigma],index=['X','Y']))"
   ]
  },
  {
   "cell_type": "code",
   "execution_count": 39,
   "metadata": {},
   "outputs": [
    {
     "name": "stdout",
     "output_type": "stream",
     "text": [
      "Covariance(x,y)    0.0714\n",
      "dtype: float64\n"
     ]
    }
   ],
   "source": [
    "# Covariance(X,Y)\n",
    "cov_xy = np.dot(port_x_wei, var_cov_mat).dot(port_y_wei.transpose())\n",
    "print(pd.Series(cov_xy,index=['Covariance(x,y)']))"
   ]
  },
  {
   "cell_type": "code",
   "execution_count": 40,
   "metadata": {},
   "outputs": [
    {
     "name": "stdout",
     "output_type": "stream",
     "text": [
      "Correlation(x,y)    0.454\n",
      "dtype: float64\n"
     ]
    }
   ],
   "source": [
    "# Correlation Coefficient (X,Y)\n",
    "correl_xy = cov_xy / (port_x_sigma * port_y_sigma)\n",
    "print(pd.Series(correl_xy,index=['Correlation(x,y)']))"
   ]
  },
  {
   "cell_type": "markdown",
   "metadata": {},
   "source": [
    "### Envelope Portfolios\n",
    " Portfolio Z is a portfolio constructed of portfolio X and portfolio Y. "
   ]
  },
  {
   "cell_type": "code",
   "execution_count": 41,
   "metadata": {},
   "outputs": [
    {
     "name": "stdout",
     "output_type": "stream",
     "text": [
      "Proportions of X and Y:\n",
      "X    0.3\n",
      "Y    0.7\n",
      "dtype: float64\n"
     ]
    }
   ],
   "source": [
    "# Input:  proportion of X\n",
    "Xa = 0.3\n",
    "port_z_weights = np.array([Xa, 1-Xa]).transpose()\n",
    "print(\"Proportions of X and Y:\")\n",
    "print(pd.Series(port_z_weights,index=['X','Y']))"
   ]
  },
  {
   "cell_type": "code",
   "execution_count": 42,
   "metadata": {},
   "outputs": [
    {
     "name": "stdout",
     "output_type": "stream",
     "text": [
      "Prtfolio Z Return    0.1113\n",
      "dtype: float64\n"
     ]
    }
   ],
   "source": [
    "# Portfolio X Returns\n",
    "port_z_ret = np.dot(port_z_weights, np.array([port_x_ret, port_y_ret]))\n",
    "print(pd.Series(port_z_ret,index=[\"Prtfolio Z Return\"]))"
   ]
  },
  {
   "cell_type": "code",
   "execution_count": 43,
   "metadata": {},
   "outputs": [
    {
     "name": "stdout",
     "output_type": "stream",
     "text": [
      "Prtfolio Z Variance    0.140598\n",
      "dtype: float64\n"
     ]
    }
   ],
   "source": [
    "# Portfolio Variance\n",
    "port_z_var = port_z_weights[0] ** 2 * port_x_var + port_z_weights[1] ** 2 * port_y_var + 2 * np.prod(port_z_weights) * cov_xy\n",
    "print(pd.Series(port_z_var,index=[\"Prtfolio Z Variance\"]))"
   ]
  },
  {
   "cell_type": "code",
   "execution_count": 44,
   "metadata": {},
   "outputs": [
    {
     "name": "stdout",
     "output_type": "stream",
     "text": [
      "Prtfolio Z Sigma    0.374964\n",
      "dtype: float64\n"
     ]
    }
   ],
   "source": [
    "# Portfolio Sigma\n",
    "port_z_sigma = math.sqrt(port_z_var)\n",
    "print(pd.Series(port_z_sigma,index=[\"Prtfolio Z Sigma\"]))"
   ]
  },
  {
   "cell_type": "markdown",
   "metadata": {},
   "source": [
    "#### Plot"
   ]
  },
  {
   "cell_type": "code",
   "execution_count": 45,
   "metadata": {},
   "outputs": [],
   "source": [
    "# Set an Array of Portfolio Weights\n",
    "port_x_weight = np.arange(-0.5,1.5,0.1)\n",
    "port_y_weight = 1-port_x_weight"
   ]
  },
  {
   "cell_type": "code",
   "execution_count": 46,
   "metadata": {},
   "outputs": [
    {
     "name": "stdout",
     "output_type": "stream",
     "text": [
      "0     0.1345\n",
      "1     0.1316\n",
      "2     0.1287\n",
      "3     0.1258\n",
      "4     0.1229\n",
      "5     0.1200\n",
      "6     0.1171\n",
      "7     0.1142\n",
      "8     0.1113\n",
      "9     0.1084\n",
      "10    0.1055\n",
      "11    0.1026\n",
      "12    0.0997\n",
      "13    0.0968\n",
      "14    0.0939\n",
      "15    0.0910\n",
      "16    0.0881\n",
      "17    0.0852\n",
      "18    0.0823\n",
      "19    0.0794\n",
      "dtype: float64\n"
     ]
    }
   ],
   "source": [
    "# Portfolio Z Mean Returns\n",
    "port_z_ret = port_x_weight * port_x_ret + port_y_weight * port_y_ret\n",
    "print(pd.Series(port_z_ret))"
   ]
  },
  {
   "cell_type": "code",
   "execution_count": 47,
   "metadata": {},
   "outputs": [
    {
     "name": "stdout",
     "output_type": "stream",
     "text": [
      "0     0.617211\n",
      "1     0.581508\n",
      "2     0.546807\n",
      "3     0.513311\n",
      "4     0.481271\n",
      "5     0.450999\n",
      "6     0.422874\n",
      "7     0.397351\n",
      "8     0.374964\n",
      "9     0.356303\n",
      "10    0.341980\n",
      "11    0.332554\n",
      "12    0.328448\n",
      "13    0.329861\n",
      "14    0.336722\n",
      "15    0.348712\n",
      "16    0.365325\n",
      "17    0.385964\n",
      "18    0.410022\n",
      "19    0.436935\n",
      "dtype: float64\n"
     ]
    }
   ],
   "source": [
    "# Portfolios Sigma\n",
    "port_z_sigma = (port_x_weight ** 2 * port_x_var + port_y_weight ** 2 * port_y_var + (port_x_weight * port_y_weight) * cov_xy * 2) ** 0.5\n",
    "print(pd.Series(port_z_sigma))"
   ]
  },
  {
   "cell_type": "code",
   "execution_count": 48,
   "metadata": {},
   "outputs": [
    {
     "data": {
      "image/png": "[encoded data removed]",
      "text/plain": [
       "<Figure size 640x480 with 1 Axes>"
      ]
     },
     "metadata": {},
     "output_type": "display_data"
    }
   ],
   "source": [
    "#Scatter Plot\n",
    "fig = plt.figure() # create a canvas\n",
    "ax = fig.add_axes([0., 0., 1., 1.]) # add axes\n",
    "ax.plot(port_z_sigma, port_z_ret, marker='o') # scatter plot\n",
    "\n",
    "# Titles and axes names\n",
    "ax.set_title(r'Portfolio Means and Returns', fontsize = 20)\n",
    "ax.set_xlabel(r'Standard Deviations', fontsize = 15)\n",
    "ax.set_ylabel(r'Mean Returns', fontsize = 15)\n",
    "\n",
    "# Show plot\n",
    "plt.show()"
   ]
  },
  {
   "cell_type": "code",
   "execution_count": null,
   "metadata": {},
   "outputs": [],
   "source": []
  }
 ],
 "metadata": {
  "kernelspec": {
   "display_name": "Python 3 (ipykernel)",
   "language": "python",
   "name": "python3"
  },
  "language_info": {
   "codemirror_mode": {
    "name": "ipython",
    "version": 3
   },
   "file_extension": ".py",
   "mimetype": "text/x-python",
   "name": "python",
   "nbconvert_exporter": "python",
   "pygments_lexer": "ipython3",
   "version": "3.9.16"
  },
  "vp": {
   "vp_config_version": "1.0.0",
   "vp_menu_width": 273,
   "vp_note_display": false,
   "vp_note_width": 0,
   "vp_position": {
    "width": 278
   },
   "vp_section_display": false,
   "vp_signature": "VisualPython"
  }
 },
 "nbformat": 4,
 "nbformat_minor": 4
}
